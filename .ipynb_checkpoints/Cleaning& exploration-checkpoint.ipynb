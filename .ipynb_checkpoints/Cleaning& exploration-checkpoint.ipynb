{
 "cells": [
  {
   "cell_type": "markdown",
   "metadata": {},
   "source": [
    "<font color='black'><font size=5>**Introduction:**</font>  \n",
    "-The data  resume sales transactions of one year of datazone company.It was provide in order to classify each customer to his best categoty from his first purchasing.\n"
   ]
  },
  {
   "cell_type": "markdown",
   "metadata": {},
   "source": [
    "<img src=\"http://www.wisdomrobot.com/wp-content/uploads/2016/10/sales-dial.jpg\">"
   ]
  },
  {
   "cell_type": "markdown",
   "metadata": {},
   "source": [
    "# Importing Librairies"
   ]
  },
  {
   "cell_type": "code",
   "execution_count": 1,
   "metadata": {},
   "outputs": [],
   "source": [
    "import numpy as np\n",
    "import pandas as pd\n",
    "import matplotlib.pyplot as plt\n",
    "from math import ceil"
   ]
  },
  {
   "cell_type": "markdown",
   "metadata": {},
   "source": [
    "# Importing Data"
   ]
  },
  {
   "cell_type": "code",
   "execution_count": 2,
   "metadata": {},
   "outputs": [],
   "source": [
    "data=pd.read_excel('Online Retail.xlsx')"
   ]
  },
  {
   "cell_type": "code",
   "execution_count": 3,
   "metadata": {},
   "outputs": [
    {
     "data": {
      "text/html": [
       "<div>\n",
       "<style scoped>\n",
       "    .dataframe tbody tr th:only-of-type {\n",
       "        vertical-align: middle;\n",
       "    }\n",
       "\n",
       "    .dataframe tbody tr th {\n",
       "        vertical-align: top;\n",
       "    }\n",
       "\n",
       "    .dataframe thead th {\n",
       "        text-align: right;\n",
       "    }\n",
       "</style>\n",
       "<table border=\"1\" class=\"dataframe\">\n",
       "  <thead>\n",
       "    <tr style=\"text-align: right;\">\n",
       "      <th></th>\n",
       "      <th>InvoiceNo</th>\n",
       "      <th>StockCode</th>\n",
       "      <th>Description</th>\n",
       "      <th>Quantity</th>\n",
       "      <th>InvoiceDate</th>\n",
       "      <th>UnitPrice</th>\n",
       "      <th>CustomerID</th>\n",
       "      <th>Country</th>\n",
       "    </tr>\n",
       "  </thead>\n",
       "  <tbody>\n",
       "    <tr>\n",
       "      <th>0</th>\n",
       "      <td>536365</td>\n",
       "      <td>85123A</td>\n",
       "      <td>WHITE HANGING HEART T-LIGHT HOLDER</td>\n",
       "      <td>6</td>\n",
       "      <td>2010-12-01 08:26:00</td>\n",
       "      <td>2.55</td>\n",
       "      <td>17850.0</td>\n",
       "      <td>United Kingdom</td>\n",
       "    </tr>\n",
       "    <tr>\n",
       "      <th>1</th>\n",
       "      <td>536365</td>\n",
       "      <td>71053</td>\n",
       "      <td>WHITE METAL LANTERN</td>\n",
       "      <td>6</td>\n",
       "      <td>2010-12-01 08:26:00</td>\n",
       "      <td>3.39</td>\n",
       "      <td>17850.0</td>\n",
       "      <td>United Kingdom</td>\n",
       "    </tr>\n",
       "    <tr>\n",
       "      <th>2</th>\n",
       "      <td>536365</td>\n",
       "      <td>84406B</td>\n",
       "      <td>CREAM CUPID HEARTS COAT HANGER</td>\n",
       "      <td>8</td>\n",
       "      <td>2010-12-01 08:26:00</td>\n",
       "      <td>2.75</td>\n",
       "      <td>17850.0</td>\n",
       "      <td>United Kingdom</td>\n",
       "    </tr>\n",
       "    <tr>\n",
       "      <th>3</th>\n",
       "      <td>536365</td>\n",
       "      <td>84029G</td>\n",
       "      <td>KNITTED UNION FLAG HOT WATER BOTTLE</td>\n",
       "      <td>6</td>\n",
       "      <td>2010-12-01 08:26:00</td>\n",
       "      <td>3.39</td>\n",
       "      <td>17850.0</td>\n",
       "      <td>United Kingdom</td>\n",
       "    </tr>\n",
       "    <tr>\n",
       "      <th>4</th>\n",
       "      <td>536365</td>\n",
       "      <td>84029E</td>\n",
       "      <td>RED WOOLLY HOTTIE WHITE HEART.</td>\n",
       "      <td>6</td>\n",
       "      <td>2010-12-01 08:26:00</td>\n",
       "      <td>3.39</td>\n",
       "      <td>17850.0</td>\n",
       "      <td>United Kingdom</td>\n",
       "    </tr>\n",
       "  </tbody>\n",
       "</table>\n",
       "</div>"
      ],
      "text/plain": [
       "  InvoiceNo StockCode                          Description  Quantity  \\\n",
       "0    536365    85123A   WHITE HANGING HEART T-LIGHT HOLDER         6   \n",
       "1    536365     71053                  WHITE METAL LANTERN         6   \n",
       "2    536365    84406B       CREAM CUPID HEARTS COAT HANGER         8   \n",
       "3    536365    84029G  KNITTED UNION FLAG HOT WATER BOTTLE         6   \n",
       "4    536365    84029E       RED WOOLLY HOTTIE WHITE HEART.         6   \n",
       "\n",
       "          InvoiceDate  UnitPrice  CustomerID         Country  \n",
       "0 2010-12-01 08:26:00       2.55     17850.0  United Kingdom  \n",
       "1 2010-12-01 08:26:00       3.39     17850.0  United Kingdom  \n",
       "2 2010-12-01 08:26:00       2.75     17850.0  United Kingdom  \n",
       "3 2010-12-01 08:26:00       3.39     17850.0  United Kingdom  \n",
       "4 2010-12-01 08:26:00       3.39     17850.0  United Kingdom  "
      ]
     },
     "execution_count": 3,
     "metadata": {},
     "output_type": "execute_result"
    }
   ],
   "source": [
    "data.head() # Survey in data"
   ]
  },
  {
   "cell_type": "markdown",
   "metadata": {},
   "source": [
    "# Missing values "
   ]
  },
  {
   "cell_type": "code",
   "execution_count": 4,
   "metadata": {},
   "outputs": [
    {
     "data": {
      "text/html": [
       "<div>\n",
       "<style scoped>\n",
       "    .dataframe tbody tr th:only-of-type {\n",
       "        vertical-align: middle;\n",
       "    }\n",
       "\n",
       "    .dataframe tbody tr th {\n",
       "        vertical-align: top;\n",
       "    }\n",
       "\n",
       "    .dataframe thead th {\n",
       "        text-align: right;\n",
       "    }\n",
       "</style>\n",
       "<table border=\"1\" class=\"dataframe\">\n",
       "  <thead>\n",
       "    <tr style=\"text-align: right;\">\n",
       "      <th></th>\n",
       "      <th>InvoiceNo</th>\n",
       "      <th>StockCode</th>\n",
       "      <th>Description</th>\n",
       "      <th>Quantity</th>\n",
       "      <th>InvoiceDate</th>\n",
       "      <th>UnitPrice</th>\n",
       "      <th>CustomerID</th>\n",
       "      <th>Country</th>\n",
       "    </tr>\n",
       "  </thead>\n",
       "  <tbody>\n",
       "    <tr>\n",
       "      <th>missing values number</th>\n",
       "      <td>0</td>\n",
       "      <td>0</td>\n",
       "      <td>1454</td>\n",
       "      <td>0</td>\n",
       "      <td>0</td>\n",
       "      <td>0</td>\n",
       "      <td>135080</td>\n",
       "      <td>0</td>\n",
       "    </tr>\n",
       "  </tbody>\n",
       "</table>\n",
       "</div>"
      ],
      "text/plain": [
       "                       InvoiceNo  StockCode  Description  Quantity  \\\n",
       "missing values number          0          0         1454         0   \n",
       "\n",
       "                       InvoiceDate  UnitPrice  CustomerID  Country  \n",
       "missing values number            0          0      135080        0  "
      ]
     },
     "execution_count": 4,
     "metadata": {},
     "output_type": "execute_result"
    }
   ],
   "source": [
    "#Compute the number of missing values for each column.\n",
    "table=pd.DataFrame({c: sum(data[c].isna()) for c in data.columns},index=['missing values number'])\n",
    "table"
   ]
  },
  {
   "cell_type": "markdown",
   "metadata": {},
   "source": [
    "<font color='blue'><font size=3>**Description missing values**"
   ]
  },
  {
   "cell_type": "code",
   "execution_count": 5,
   "metadata": {},
   "outputs": [],
   "source": [
    "#We will define function wich allow us to find the correct values of missing values for this column.\n",
    "def remp_description(i,df):\n",
    "    \"\"\" This function allow to examinate the value of the Description column of the introduced index row.\n",
    "     If this value is null, the function examinate the value of the StockCode column of this row. If this \n",
    "     value is not null.The function search in the introduced dataframe to find the correct value of the \n",
    "     missing value from its StockCode value.\n",
    "     \n",
    "     Args:\n",
    "     i(int):the row number that the function will examinate.\n",
    "     df(DataFrame): The introduced dataframe\n",
    "     \n",
    "     Return:\n",
    "     description(str):the value of the column Description for the introduced row.\n",
    "     \"\"\"\n",
    "    description=df.iloc[i]['Description'] #recuperate the value of Description of the introduced row.\n",
    "    if pd.isna(df.iloc[i]['Description']): # if description value is null.\n",
    "        code=df.iloc[i]['StockCode']       # the value of StockCode of the introduced row.\n",
    "        if not pd.isna(code):              # if the StockCode value is not null.\n",
    "            rd=df[df['StockCode']==code]   #data set which StockCode value equal to code.\n",
    "            for val in rd['Description']:\n",
    "                if not pd.isnull(val):    #recuperate the first value not null of the Column Stockcode.\n",
    "                    description=val\n",
    "                    break\n",
    "    return description"
   ]
  },
  {
   "cell_type": "code",
   "execution_count": 6,
   "metadata": {},
   "outputs": [],
   "source": [
    "data['Description']=[remp_description(i,data) for i in range(len(data))] # replace the Description missing values."
   ]
  },
  {
   "cell_type": "code",
   "execution_count": 7,
   "metadata": {},
   "outputs": [
    {
     "data": {
      "text/plain": [
       "112"
      ]
     },
     "execution_count": 7,
     "metadata": {},
     "output_type": "execute_result"
    }
   ],
   "source": [
    "sum (data['Description'].isna()) # the number of rest missing value of this column."
   ]
  },
  {
   "cell_type": "markdown",
   "metadata": {},
   "source": [
    "<font color='blue'><font size=3>**CustomerID missing values **"
   ]
  },
  {
   "cell_type": "code",
   "execution_count": 8,
   "metadata": {},
   "outputs": [],
   "source": [
    "#we will define function which allow us to find the correct values of missing values for this column.\n",
    "def remp_CustomerID(df):\n",
    "    \"\"\"This function allow to look for each missing CustomerID value the correct value in the neighbor rows,\n",
    "    which have the same InvoiceNo values.\n",
    "    \n",
    "    Args:\n",
    "    \n",
    "    df(DataFrame): The introduced dataframe, that the function will examinate.\n",
    "    \"\"\"\n",
    "    dr=df[df['CustomerID'].isna()]\n",
    "    for i in dr.index:\n",
    "        vl=df.iloc[i]['InvoiceNo']\n",
    "        if not pd.isna(vl):\n",
    "            dff=df.iloc[max(0,i-10):i+10]\n",
    "            dffr=dff[dff['InvoiceNo']==vl]\n",
    "            if len(dffr) > 0:\n",
    "                dfff=dffr[~ dffr['CustomerID'].isna()]\n",
    "            if len(dfff) > 0:\n",
    "                df.iloc[i]['CustomerID']= dfff.iloc[dfff.index[0]]['CustomerID']\n",
    "                    \n",
    "        "
   ]
  },
  {
   "cell_type": "code",
   "execution_count": 9,
   "metadata": {},
   "outputs": [],
   "source": [
    "remp_CustomerID(data)"
   ]
  },
  {
   "cell_type": "code",
   "execution_count": 10,
   "metadata": {},
   "outputs": [
    {
     "data": {
      "text/plain": [
       "135080"
      ]
     },
     "execution_count": 10,
     "metadata": {},
     "output_type": "execute_result"
    }
   ],
   "source": [
    "sum(data['CustomerID'].isna())"
   ]
  },
  {
   "cell_type": "markdown",
   "metadata": {},
   "source": [
    "**We couldn't find any correct value for the CustomerID missing values. So, we will define an id for each CustomerID\n",
    "missing value correspond to each InvoiceNo value.**"
   ]
  },
  {
   "cell_type": "code",
   "execution_count": 11,
   "metadata": {},
   "outputs": [],
   "source": [
    "def def_id(df):\n",
    "    \"\"\"This function will give a different ID for each CustomerID missing values. It recuperates the dataframe\n",
    "     which has CustomerID missing values. Then it attribute a new ID correspond to each differents InvoiceNo value.\n",
    "     \n",
    "     Args:\n",
    "     \n",
    "     df(DataFrame):the introduced dataframe which the function will examinate.\n",
    "     \"\"\"\n",
    "    idd=max(df['CustomerID'])       #The max CustomerID used.\n",
    "    dr=df[df['CustomerID'].isna()]  # sub dataframe wich all CustomerID missing values are null.\n",
    "    invoicen=dr['InvoiceNo'].unique() #The uniques InvoiceNo values belong to the dataframe CustomerID missing values.\n",
    "    id_valeurs={c:vl+i for c,vl,i in zip(invoicen,np.full(len(invoicen),idd),range(1,len(invoicen)+1))} #attribute different CustomerID to each different InvoiceNo.\n",
    "    for invoice in invoicen:\n",
    "        nv=df[df['InvoiceNo']==invoice]\n",
    "        nv['CustomerID']= nv['CustomerID'].fillna(id_valeurs[invoice])\n",
    "        df[df['InvoiceNo']==invoice]=nv\n",
    "   "
   ]
  },
  {
   "cell_type": "code",
   "execution_count": 12,
   "metadata": {},
   "outputs": [
    {
     "name": "stderr",
     "output_type": "stream",
     "text": [
      "/home/taher/anaconda3/lib/python3.6/site-packages/ipykernel_launcher.py:15: SettingWithCopyWarning: \n",
      "A value is trying to be set on a copy of a slice from a DataFrame.\n",
      "Try using .loc[row_indexer,col_indexer] = value instead\n",
      "\n",
      "See the caveats in the documentation: http://pandas.pydata.org/pandas-docs/stable/indexing.html#indexing-view-versus-copy\n",
      "  from ipykernel import kernelapp as app\n"
     ]
    }
   ],
   "source": [
    "def_id(data) # impute each CustomerID missing values by implente the previous function."
   ]
  },
  {
   "cell_type": "code",
   "execution_count": 13,
   "metadata": {},
   "outputs": [
    {
     "data": {
      "text/plain": [
       "0"
      ]
     },
     "execution_count": 13,
     "metadata": {},
     "output_type": "execute_result"
    }
   ],
   "source": [
    "sum(data['CustomerID'].isna()) # the number of the rest missing values for the column CustomerID."
   ]
  },
  {
   "cell_type": "code",
   "execution_count": 14,
   "metadata": {},
   "outputs": [
    {
     "data": {
      "text/html": [
       "<div>\n",
       "<style scoped>\n",
       "    .dataframe tbody tr th:only-of-type {\n",
       "        vertical-align: middle;\n",
       "    }\n",
       "\n",
       "    .dataframe tbody tr th {\n",
       "        vertical-align: top;\n",
       "    }\n",
       "\n",
       "    .dataframe thead th {\n",
       "        text-align: right;\n",
       "    }\n",
       "</style>\n",
       "<table border=\"1\" class=\"dataframe\">\n",
       "  <thead>\n",
       "    <tr style=\"text-align: right;\">\n",
       "      <th></th>\n",
       "      <th>InvoiceNo</th>\n",
       "      <th>StockCode</th>\n",
       "      <th>Description</th>\n",
       "      <th>Quantity</th>\n",
       "      <th>InvoiceDate</th>\n",
       "      <th>UnitPrice</th>\n",
       "      <th>CustomerID</th>\n",
       "      <th>Country</th>\n",
       "    </tr>\n",
       "  </thead>\n",
       "  <tbody>\n",
       "    <tr>\n",
       "      <th>missing values number</th>\n",
       "      <td>0</td>\n",
       "      <td>0</td>\n",
       "      <td>112</td>\n",
       "      <td>0</td>\n",
       "      <td>0</td>\n",
       "      <td>0</td>\n",
       "      <td>0</td>\n",
       "      <td>0</td>\n",
       "    </tr>\n",
       "  </tbody>\n",
       "</table>\n",
       "</div>"
      ],
      "text/plain": [
       "                       InvoiceNo  StockCode  Description  Quantity  \\\n",
       "missing values number          0          0          112         0   \n",
       "\n",
       "                       InvoiceDate  UnitPrice  CustomerID  Country  \n",
       "missing values number            0          0           0        0  "
      ]
     },
     "execution_count": 14,
     "metadata": {},
     "output_type": "execute_result"
    }
   ],
   "source": [
    "# Compute the number of rest missing values.\n",
    "table=pd.DataFrame({c:sum(data[c].isna()) for c in data.columns},index=['missing values number'])\n",
    "table"
   ]
  },
  {
   "cell_type": "markdown",
   "metadata": {},
   "source": [
    "**We find that the variable Description is not useful for our work . Hence, we will delete this variable.**"
   ]
  },
  {
   "cell_type": "code",
   "execution_count": 15,
   "metadata": {},
   "outputs": [],
   "source": [
    "del (data['Description'])"
   ]
  },
  {
   "cell_type": "markdown",
   "metadata": {},
   "source": [
    "# Outliers"
   ]
  },
  {
   "cell_type": "markdown",
   "metadata": {},
   "source": [
    "**In order to detecte if there were outliers in our variables, we will represent the boxplot of our variables.**"
   ]
  },
  {
   "cell_type": "code",
   "execution_count": 16,
   "metadata": {},
   "outputs": [
    {
     "data": {
      "text/plain": [
       "{'whiskers': [<matplotlib.lines.Line2D at 0x7f36c84fd2e8>,\n",
       "  <matplotlib.lines.Line2D at 0x7f36c84fd438>,\n",
       "  <matplotlib.lines.Line2D at 0x7f36c8511f60>,\n",
       "  <matplotlib.lines.Line2D at 0x7f36c85150f0>],\n",
       " 'caps': [<matplotlib.lines.Line2D at 0x7f36c84fd8d0>,\n",
       "  <matplotlib.lines.Line2D at 0x7f36c84fdcf8>,\n",
       "  <matplotlib.lines.Line2D at 0x7f36c8515518>,\n",
       "  <matplotlib.lines.Line2D at 0x7f36c8515940>],\n",
       " 'boxes': [<matplotlib.patches.PathPatch at 0x7f36c84fd080>,\n",
       "  <matplotlib.patches.PathPatch at 0x7f36c8511cc0>],\n",
       " 'medians': [<matplotlib.lines.Line2D at 0x7f36c8511160>,\n",
       "  <matplotlib.lines.Line2D at 0x7f36c8515d68>],\n",
       " 'fliers': [],\n",
       " 'means': [<matplotlib.lines.Line2D at 0x7f36c8511588>,\n",
       "  <matplotlib.lines.Line2D at 0x7f36c851f1d0>]}"
      ]
     },
     "execution_count": 16,
     "metadata": {},
     "output_type": "execute_result"
    },
    {
     "data": {
      "image/png": "[encoded data removed]",
      "text/plain": [
       "<Figure size 432x288 with 1 Axes>"
      ]
     },
     "metadata": {},
     "output_type": "display_data"
    }
   ],
   "source": [
    "label=['Quantity','UnitPrice']\n",
    "plt.boxplot([data['Quantity'],data['UnitPrice']],labels=label,vert=False,showfliers=False,\\\n",
    "           medianprops={'color':\"black\"},patch_artist=True,showmeans=True,\\\n",
    "            meanprops={\"marker\":\"o\",'markeredgecolor':'black','markerfacecolor':'firebrick'})"
   ]
  },
  {
   "cell_type": "markdown",
   "metadata": {},
   "source": [
    "**We notice negatives values of quantity. Hereunder, we will explorate theses values.**"
   ]
  },
  {
   "cell_type": "code",
   "execution_count": 17,
   "metadata": {},
   "outputs": [
    {
     "data": {
      "text/html": [
       "<div>\n",
       "<style scoped>\n",
       "    .dataframe tbody tr th:only-of-type {\n",
       "        vertical-align: middle;\n",
       "    }\n",
       "\n",
       "    .dataframe tbody tr th {\n",
       "        vertical-align: top;\n",
       "    }\n",
       "\n",
       "    .dataframe thead th {\n",
       "        text-align: right;\n",
       "    }\n",
       "</style>\n",
       "<table border=\"1\" class=\"dataframe\">\n",
       "  <thead>\n",
       "    <tr style=\"text-align: right;\">\n",
       "      <th></th>\n",
       "      <th>InvoiceNo</th>\n",
       "      <th>StockCode</th>\n",
       "      <th>Quantity</th>\n",
       "      <th>InvoiceDate</th>\n",
       "      <th>UnitPrice</th>\n",
       "      <th>CustomerID</th>\n",
       "      <th>Country</th>\n",
       "    </tr>\n",
       "  </thead>\n",
       "  <tbody>\n",
       "    <tr>\n",
       "      <th>141</th>\n",
       "      <td>C536379</td>\n",
       "      <td>D</td>\n",
       "      <td>-1</td>\n",
       "      <td>2010-12-01 09:41:00</td>\n",
       "      <td>27.50</td>\n",
       "      <td>14527.0</td>\n",
       "      <td>United Kingdom</td>\n",
       "    </tr>\n",
       "    <tr>\n",
       "      <th>154</th>\n",
       "      <td>C536383</td>\n",
       "      <td>35004C</td>\n",
       "      <td>-1</td>\n",
       "      <td>2010-12-01 09:49:00</td>\n",
       "      <td>4.65</td>\n",
       "      <td>15311.0</td>\n",
       "      <td>United Kingdom</td>\n",
       "    </tr>\n",
       "    <tr>\n",
       "      <th>235</th>\n",
       "      <td>C536391</td>\n",
       "      <td>22556</td>\n",
       "      <td>-12</td>\n",
       "      <td>2010-12-01 10:24:00</td>\n",
       "      <td>1.65</td>\n",
       "      <td>17548.0</td>\n",
       "      <td>United Kingdom</td>\n",
       "    </tr>\n",
       "    <tr>\n",
       "      <th>236</th>\n",
       "      <td>C536391</td>\n",
       "      <td>21984</td>\n",
       "      <td>-24</td>\n",
       "      <td>2010-12-01 10:24:00</td>\n",
       "      <td>0.29</td>\n",
       "      <td>17548.0</td>\n",
       "      <td>United Kingdom</td>\n",
       "    </tr>\n",
       "    <tr>\n",
       "      <th>237</th>\n",
       "      <td>C536391</td>\n",
       "      <td>21983</td>\n",
       "      <td>-24</td>\n",
       "      <td>2010-12-01 10:24:00</td>\n",
       "      <td>0.29</td>\n",
       "      <td>17548.0</td>\n",
       "      <td>United Kingdom</td>\n",
       "    </tr>\n",
       "    <tr>\n",
       "      <th>238</th>\n",
       "      <td>C536391</td>\n",
       "      <td>21980</td>\n",
       "      <td>-24</td>\n",
       "      <td>2010-12-01 10:24:00</td>\n",
       "      <td>0.29</td>\n",
       "      <td>17548.0</td>\n",
       "      <td>United Kingdom</td>\n",
       "    </tr>\n",
       "    <tr>\n",
       "      <th>239</th>\n",
       "      <td>C536391</td>\n",
       "      <td>21484</td>\n",
       "      <td>-12</td>\n",
       "      <td>2010-12-01 10:24:00</td>\n",
       "      <td>3.45</td>\n",
       "      <td>17548.0</td>\n",
       "      <td>United Kingdom</td>\n",
       "    </tr>\n",
       "    <tr>\n",
       "      <th>240</th>\n",
       "      <td>C536391</td>\n",
       "      <td>22557</td>\n",
       "      <td>-12</td>\n",
       "      <td>2010-12-01 10:24:00</td>\n",
       "      <td>1.65</td>\n",
       "      <td>17548.0</td>\n",
       "      <td>United Kingdom</td>\n",
       "    </tr>\n",
       "    <tr>\n",
       "      <th>241</th>\n",
       "      <td>C536391</td>\n",
       "      <td>22553</td>\n",
       "      <td>-24</td>\n",
       "      <td>2010-12-01 10:24:00</td>\n",
       "      <td>1.65</td>\n",
       "      <td>17548.0</td>\n",
       "      <td>United Kingdom</td>\n",
       "    </tr>\n",
       "    <tr>\n",
       "      <th>939</th>\n",
       "      <td>C536506</td>\n",
       "      <td>22960</td>\n",
       "      <td>-6</td>\n",
       "      <td>2010-12-01 12:38:00</td>\n",
       "      <td>4.25</td>\n",
       "      <td>17897.0</td>\n",
       "      <td>United Kingdom</td>\n",
       "    </tr>\n",
       "    <tr>\n",
       "      <th>1441</th>\n",
       "      <td>C536543</td>\n",
       "      <td>22632</td>\n",
       "      <td>-1</td>\n",
       "      <td>2010-12-01 14:30:00</td>\n",
       "      <td>2.10</td>\n",
       "      <td>17841.0</td>\n",
       "      <td>United Kingdom</td>\n",
       "    </tr>\n",
       "    <tr>\n",
       "      <th>1442</th>\n",
       "      <td>C536543</td>\n",
       "      <td>22355</td>\n",
       "      <td>-2</td>\n",
       "      <td>2010-12-01 14:30:00</td>\n",
       "      <td>0.85</td>\n",
       "      <td>17841.0</td>\n",
       "      <td>United Kingdom</td>\n",
       "    </tr>\n",
       "    <tr>\n",
       "      <th>1973</th>\n",
       "      <td>C536548</td>\n",
       "      <td>22244</td>\n",
       "      <td>-4</td>\n",
       "      <td>2010-12-01 14:33:00</td>\n",
       "      <td>1.95</td>\n",
       "      <td>12472.0</td>\n",
       "      <td>Germany</td>\n",
       "    </tr>\n",
       "    <tr>\n",
       "      <th>1974</th>\n",
       "      <td>C536548</td>\n",
       "      <td>22242</td>\n",
       "      <td>-5</td>\n",
       "      <td>2010-12-01 14:33:00</td>\n",
       "      <td>1.65</td>\n",
       "      <td>12472.0</td>\n",
       "      <td>Germany</td>\n",
       "    </tr>\n",
       "    <tr>\n",
       "      <th>1975</th>\n",
       "      <td>C536548</td>\n",
       "      <td>20914</td>\n",
       "      <td>-1</td>\n",
       "      <td>2010-12-01 14:33:00</td>\n",
       "      <td>2.95</td>\n",
       "      <td>12472.0</td>\n",
       "      <td>Germany</td>\n",
       "    </tr>\n",
       "    <tr>\n",
       "      <th>1976</th>\n",
       "      <td>C536548</td>\n",
       "      <td>22892</td>\n",
       "      <td>-7</td>\n",
       "      <td>2010-12-01 14:33:00</td>\n",
       "      <td>1.25</td>\n",
       "      <td>12472.0</td>\n",
       "      <td>Germany</td>\n",
       "    </tr>\n",
       "    <tr>\n",
       "      <th>1977</th>\n",
       "      <td>C536548</td>\n",
       "      <td>22654</td>\n",
       "      <td>-1</td>\n",
       "      <td>2010-12-01 14:33:00</td>\n",
       "      <td>5.95</td>\n",
       "      <td>12472.0</td>\n",
       "      <td>Germany</td>\n",
       "    </tr>\n",
       "    <tr>\n",
       "      <th>1978</th>\n",
       "      <td>C536548</td>\n",
       "      <td>22767</td>\n",
       "      <td>-2</td>\n",
       "      <td>2010-12-01 14:33:00</td>\n",
       "      <td>9.95</td>\n",
       "      <td>12472.0</td>\n",
       "      <td>Germany</td>\n",
       "    </tr>\n",
       "    <tr>\n",
       "      <th>1979</th>\n",
       "      <td>C536548</td>\n",
       "      <td>22333</td>\n",
       "      <td>-1</td>\n",
       "      <td>2010-12-01 14:33:00</td>\n",
       "      <td>1.65</td>\n",
       "      <td>12472.0</td>\n",
       "      <td>Germany</td>\n",
       "    </tr>\n",
       "    <tr>\n",
       "      <th>1980</th>\n",
       "      <td>C536548</td>\n",
       "      <td>22245</td>\n",
       "      <td>-2</td>\n",
       "      <td>2010-12-01 14:33:00</td>\n",
       "      <td>0.85</td>\n",
       "      <td>12472.0</td>\n",
       "      <td>Germany</td>\n",
       "    </tr>\n",
       "    <tr>\n",
       "      <th>1981</th>\n",
       "      <td>C536548</td>\n",
       "      <td>22077</td>\n",
       "      <td>-6</td>\n",
       "      <td>2010-12-01 14:33:00</td>\n",
       "      <td>1.65</td>\n",
       "      <td>12472.0</td>\n",
       "      <td>Germany</td>\n",
       "    </tr>\n",
       "    <tr>\n",
       "      <th>1982</th>\n",
       "      <td>C536548</td>\n",
       "      <td>22631</td>\n",
       "      <td>-1</td>\n",
       "      <td>2010-12-01 14:33:00</td>\n",
       "      <td>1.95</td>\n",
       "      <td>12472.0</td>\n",
       "      <td>Germany</td>\n",
       "    </tr>\n",
       "    <tr>\n",
       "      <th>1983</th>\n",
       "      <td>C536548</td>\n",
       "      <td>22168</td>\n",
       "      <td>-2</td>\n",
       "      <td>2010-12-01 14:33:00</td>\n",
       "      <td>8.50</td>\n",
       "      <td>12472.0</td>\n",
       "      <td>Germany</td>\n",
       "    </tr>\n",
       "    <tr>\n",
       "      <th>1984</th>\n",
       "      <td>C536548</td>\n",
       "      <td>21218</td>\n",
       "      <td>-3</td>\n",
       "      <td>2010-12-01 14:33:00</td>\n",
       "      <td>3.75</td>\n",
       "      <td>12472.0</td>\n",
       "      <td>Germany</td>\n",
       "    </tr>\n",
       "    <tr>\n",
       "      <th>1985</th>\n",
       "      <td>C536548</td>\n",
       "      <td>20957</td>\n",
       "      <td>-1</td>\n",
       "      <td>2010-12-01 14:33:00</td>\n",
       "      <td>1.45</td>\n",
       "      <td>12472.0</td>\n",
       "      <td>Germany</td>\n",
       "    </tr>\n",
       "    <tr>\n",
       "      <th>1986</th>\n",
       "      <td>C536548</td>\n",
       "      <td>22580</td>\n",
       "      <td>-4</td>\n",
       "      <td>2010-12-01 14:33:00</td>\n",
       "      <td>5.95</td>\n",
       "      <td>12472.0</td>\n",
       "      <td>Germany</td>\n",
       "    </tr>\n",
       "    <tr>\n",
       "      <th>2406</th>\n",
       "      <td>536589</td>\n",
       "      <td>21777</td>\n",
       "      <td>-10</td>\n",
       "      <td>2010-12-01 16:50:00</td>\n",
       "      <td>0.00</td>\n",
       "      <td>18301.0</td>\n",
       "      <td>United Kingdom</td>\n",
       "    </tr>\n",
       "    <tr>\n",
       "      <th>3170</th>\n",
       "      <td>C536606</td>\n",
       "      <td>20914</td>\n",
       "      <td>-2</td>\n",
       "      <td>2010-12-02 09:10:00</td>\n",
       "      <td>2.95</td>\n",
       "      <td>14092.0</td>\n",
       "      <td>United Kingdom</td>\n",
       "    </tr>\n",
       "    <tr>\n",
       "      <th>3338</th>\n",
       "      <td>C536622</td>\n",
       "      <td>22752</td>\n",
       "      <td>-2</td>\n",
       "      <td>2010-12-02 10:37:00</td>\n",
       "      <td>8.50</td>\n",
       "      <td>12471.0</td>\n",
       "      <td>Germany</td>\n",
       "    </tr>\n",
       "    <tr>\n",
       "      <th>3410</th>\n",
       "      <td>C536625</td>\n",
       "      <td>22839</td>\n",
       "      <td>-2</td>\n",
       "      <td>2010-12-02 10:46:00</td>\n",
       "      <td>14.95</td>\n",
       "      <td>14766.0</td>\n",
       "      <td>United Kingdom</td>\n",
       "    </tr>\n",
       "    <tr>\n",
       "      <th>...</th>\n",
       "      <td>...</td>\n",
       "      <td>...</td>\n",
       "      <td>...</td>\n",
       "      <td>...</td>\n",
       "      <td>...</td>\n",
       "      <td>...</td>\n",
       "      <td>...</td>\n",
       "    </tr>\n",
       "    <tr>\n",
       "      <th>538565</th>\n",
       "      <td>C581409</td>\n",
       "      <td>22173</td>\n",
       "      <td>-2</td>\n",
       "      <td>2011-12-08 14:08:00</td>\n",
       "      <td>3.29</td>\n",
       "      <td>12476.0</td>\n",
       "      <td>Germany</td>\n",
       "    </tr>\n",
       "    <tr>\n",
       "      <th>538566</th>\n",
       "      <td>C581409</td>\n",
       "      <td>85199L</td>\n",
       "      <td>-1</td>\n",
       "      <td>2011-12-08 14:08:00</td>\n",
       "      <td>0.65</td>\n",
       "      <td>12476.0</td>\n",
       "      <td>Germany</td>\n",
       "    </tr>\n",
       "    <tr>\n",
       "      <th>538567</th>\n",
       "      <td>C581409</td>\n",
       "      <td>85127</td>\n",
       "      <td>-5</td>\n",
       "      <td>2011-12-08 14:08:00</td>\n",
       "      <td>4.95</td>\n",
       "      <td>12476.0</td>\n",
       "      <td>Germany</td>\n",
       "    </tr>\n",
       "    <tr>\n",
       "      <th>538919</th>\n",
       "      <td>581422</td>\n",
       "      <td>23169</td>\n",
       "      <td>-235</td>\n",
       "      <td>2011-12-08 15:24:00</td>\n",
       "      <td>0.00</td>\n",
       "      <td>21991.0</td>\n",
       "      <td>United Kingdom</td>\n",
       "    </tr>\n",
       "    <tr>\n",
       "      <th>540072</th>\n",
       "      <td>C581460</td>\n",
       "      <td>22197</td>\n",
       "      <td>-5</td>\n",
       "      <td>2011-12-08 18:48:00</td>\n",
       "      <td>0.72</td>\n",
       "      <td>13078.0</td>\n",
       "      <td>United Kingdom</td>\n",
       "    </tr>\n",
       "    <tr>\n",
       "      <th>540073</th>\n",
       "      <td>C581460</td>\n",
       "      <td>22107</td>\n",
       "      <td>-1</td>\n",
       "      <td>2011-12-08 18:48:00</td>\n",
       "      <td>1.25</td>\n",
       "      <td>13078.0</td>\n",
       "      <td>United Kingdom</td>\n",
       "    </tr>\n",
       "    <tr>\n",
       "      <th>540078</th>\n",
       "      <td>C581462</td>\n",
       "      <td>16219</td>\n",
       "      <td>-48</td>\n",
       "      <td>2011-12-08 18:51:00</td>\n",
       "      <td>0.06</td>\n",
       "      <td>12985.0</td>\n",
       "      <td>United Kingdom</td>\n",
       "    </tr>\n",
       "    <tr>\n",
       "      <th>540079</th>\n",
       "      <td>C581462</td>\n",
       "      <td>21642</td>\n",
       "      <td>-72</td>\n",
       "      <td>2011-12-08 18:51:00</td>\n",
       "      <td>0.29</td>\n",
       "      <td>12985.0</td>\n",
       "      <td>United Kingdom</td>\n",
       "    </tr>\n",
       "    <tr>\n",
       "      <th>540080</th>\n",
       "      <td>C581463</td>\n",
       "      <td>85048</td>\n",
       "      <td>-2</td>\n",
       "      <td>2011-12-08 18:56:00</td>\n",
       "      <td>7.95</td>\n",
       "      <td>17526.0</td>\n",
       "      <td>United Kingdom</td>\n",
       "    </tr>\n",
       "    <tr>\n",
       "      <th>540081</th>\n",
       "      <td>C581464</td>\n",
       "      <td>23458</td>\n",
       "      <td>-1</td>\n",
       "      <td>2011-12-08 18:57:00</td>\n",
       "      <td>14.95</td>\n",
       "      <td>15951.0</td>\n",
       "      <td>United Kingdom</td>\n",
       "    </tr>\n",
       "    <tr>\n",
       "      <th>540082</th>\n",
       "      <td>C581464</td>\n",
       "      <td>71477</td>\n",
       "      <td>-6</td>\n",
       "      <td>2011-12-08 18:57:00</td>\n",
       "      <td>3.95</td>\n",
       "      <td>15951.0</td>\n",
       "      <td>United Kingdom</td>\n",
       "    </tr>\n",
       "    <tr>\n",
       "      <th>540083</th>\n",
       "      <td>C581465</td>\n",
       "      <td>23660</td>\n",
       "      <td>-2</td>\n",
       "      <td>2011-12-08 18:59:00</td>\n",
       "      <td>1.65</td>\n",
       "      <td>15755.0</td>\n",
       "      <td>United Kingdom</td>\n",
       "    </tr>\n",
       "    <tr>\n",
       "      <th>540084</th>\n",
       "      <td>C581465</td>\n",
       "      <td>22171</td>\n",
       "      <td>-1</td>\n",
       "      <td>2011-12-08 18:59:00</td>\n",
       "      <td>8.50</td>\n",
       "      <td>15755.0</td>\n",
       "      <td>United Kingdom</td>\n",
       "    </tr>\n",
       "    <tr>\n",
       "      <th>540085</th>\n",
       "      <td>C581465</td>\n",
       "      <td>21876</td>\n",
       "      <td>-4</td>\n",
       "      <td>2011-12-08 18:59:00</td>\n",
       "      <td>1.65</td>\n",
       "      <td>15755.0</td>\n",
       "      <td>United Kingdom</td>\n",
       "    </tr>\n",
       "    <tr>\n",
       "      <th>540086</th>\n",
       "      <td>C581465</td>\n",
       "      <td>20914</td>\n",
       "      <td>-3</td>\n",
       "      <td>2011-12-08 18:59:00</td>\n",
       "      <td>2.95</td>\n",
       "      <td>15755.0</td>\n",
       "      <td>United Kingdom</td>\n",
       "    </tr>\n",
       "    <tr>\n",
       "      <th>540087</th>\n",
       "      <td>C581466</td>\n",
       "      <td>22838</td>\n",
       "      <td>-1</td>\n",
       "      <td>2011-12-08 19:20:00</td>\n",
       "      <td>14.95</td>\n",
       "      <td>13883.0</td>\n",
       "      <td>United Kingdom</td>\n",
       "    </tr>\n",
       "    <tr>\n",
       "      <th>540088</th>\n",
       "      <td>C581466</td>\n",
       "      <td>22720</td>\n",
       "      <td>-2</td>\n",
       "      <td>2011-12-08 19:20:00</td>\n",
       "      <td>4.95</td>\n",
       "      <td>13883.0</td>\n",
       "      <td>United Kingdom</td>\n",
       "    </tr>\n",
       "    <tr>\n",
       "      <th>540089</th>\n",
       "      <td>C581466</td>\n",
       "      <td>21216</td>\n",
       "      <td>-1</td>\n",
       "      <td>2011-12-08 19:20:00</td>\n",
       "      <td>4.95</td>\n",
       "      <td>13883.0</td>\n",
       "      <td>United Kingdom</td>\n",
       "    </tr>\n",
       "    <tr>\n",
       "      <th>540090</th>\n",
       "      <td>C581466</td>\n",
       "      <td>21535</td>\n",
       "      <td>-2</td>\n",
       "      <td>2011-12-08 19:20:00</td>\n",
       "      <td>2.55</td>\n",
       "      <td>13883.0</td>\n",
       "      <td>United Kingdom</td>\n",
       "    </tr>\n",
       "    <tr>\n",
       "      <th>540091</th>\n",
       "      <td>C581466</td>\n",
       "      <td>21232</td>\n",
       "      <td>-1</td>\n",
       "      <td>2011-12-08 19:20:00</td>\n",
       "      <td>1.25</td>\n",
       "      <td>13883.0</td>\n",
       "      <td>United Kingdom</td>\n",
       "    </tr>\n",
       "    <tr>\n",
       "      <th>540141</th>\n",
       "      <td>C581468</td>\n",
       "      <td>21314</td>\n",
       "      <td>-10</td>\n",
       "      <td>2011-12-08 19:26:00</td>\n",
       "      <td>2.10</td>\n",
       "      <td>13599.0</td>\n",
       "      <td>United Kingdom</td>\n",
       "    </tr>\n",
       "    <tr>\n",
       "      <th>540142</th>\n",
       "      <td>C581468</td>\n",
       "      <td>22098</td>\n",
       "      <td>-12</td>\n",
       "      <td>2011-12-08 19:26:00</td>\n",
       "      <td>0.39</td>\n",
       "      <td>13599.0</td>\n",
       "      <td>United Kingdom</td>\n",
       "    </tr>\n",
       "    <tr>\n",
       "      <th>540176</th>\n",
       "      <td>C581470</td>\n",
       "      <td>23084</td>\n",
       "      <td>-4</td>\n",
       "      <td>2011-12-08 19:28:00</td>\n",
       "      <td>2.08</td>\n",
       "      <td>17924.0</td>\n",
       "      <td>United Kingdom</td>\n",
       "    </tr>\n",
       "    <tr>\n",
       "      <th>540422</th>\n",
       "      <td>C581484</td>\n",
       "      <td>23843</td>\n",
       "      <td>-80995</td>\n",
       "      <td>2011-12-09 09:27:00</td>\n",
       "      <td>2.08</td>\n",
       "      <td>16446.0</td>\n",
       "      <td>United Kingdom</td>\n",
       "    </tr>\n",
       "    <tr>\n",
       "      <th>540448</th>\n",
       "      <td>C581490</td>\n",
       "      <td>22178</td>\n",
       "      <td>-12</td>\n",
       "      <td>2011-12-09 09:57:00</td>\n",
       "      <td>1.95</td>\n",
       "      <td>14397.0</td>\n",
       "      <td>United Kingdom</td>\n",
       "    </tr>\n",
       "    <tr>\n",
       "      <th>540449</th>\n",
       "      <td>C581490</td>\n",
       "      <td>23144</td>\n",
       "      <td>-11</td>\n",
       "      <td>2011-12-09 09:57:00</td>\n",
       "      <td>0.83</td>\n",
       "      <td>14397.0</td>\n",
       "      <td>United Kingdom</td>\n",
       "    </tr>\n",
       "    <tr>\n",
       "      <th>541541</th>\n",
       "      <td>C581499</td>\n",
       "      <td>M</td>\n",
       "      <td>-1</td>\n",
       "      <td>2011-12-09 10:28:00</td>\n",
       "      <td>224.69</td>\n",
       "      <td>15498.0</td>\n",
       "      <td>United Kingdom</td>\n",
       "    </tr>\n",
       "    <tr>\n",
       "      <th>541715</th>\n",
       "      <td>C581568</td>\n",
       "      <td>21258</td>\n",
       "      <td>-5</td>\n",
       "      <td>2011-12-09 11:57:00</td>\n",
       "      <td>10.95</td>\n",
       "      <td>15311.0</td>\n",
       "      <td>United Kingdom</td>\n",
       "    </tr>\n",
       "    <tr>\n",
       "      <th>541716</th>\n",
       "      <td>C581569</td>\n",
       "      <td>84978</td>\n",
       "      <td>-1</td>\n",
       "      <td>2011-12-09 11:58:00</td>\n",
       "      <td>1.25</td>\n",
       "      <td>17315.0</td>\n",
       "      <td>United Kingdom</td>\n",
       "    </tr>\n",
       "    <tr>\n",
       "      <th>541717</th>\n",
       "      <td>C581569</td>\n",
       "      <td>20979</td>\n",
       "      <td>-5</td>\n",
       "      <td>2011-12-09 11:58:00</td>\n",
       "      <td>1.25</td>\n",
       "      <td>17315.0</td>\n",
       "      <td>United Kingdom</td>\n",
       "    </tr>\n",
       "  </tbody>\n",
       "</table>\n",
       "<p>10624 rows × 7 columns</p>\n",
       "</div>"
      ],
      "text/plain": [
       "       InvoiceNo StockCode  Quantity         InvoiceDate  UnitPrice  \\\n",
       "141      C536379         D        -1 2010-12-01 09:41:00      27.50   \n",
       "154      C536383    35004C        -1 2010-12-01 09:49:00       4.65   \n",
       "235      C536391     22556       -12 2010-12-01 10:24:00       1.65   \n",
       "236      C536391     21984       -24 2010-12-01 10:24:00       0.29   \n",
       "237      C536391     21983       -24 2010-12-01 10:24:00       0.29   \n",
       "238      C536391     21980       -24 2010-12-01 10:24:00       0.29   \n",
       "239      C536391     21484       -12 2010-12-01 10:24:00       3.45   \n",
       "240      C536391     22557       -12 2010-12-01 10:24:00       1.65   \n",
       "241      C536391     22553       -24 2010-12-01 10:24:00       1.65   \n",
       "939      C536506     22960        -6 2010-12-01 12:38:00       4.25   \n",
       "1441     C536543     22632        -1 2010-12-01 14:30:00       2.10   \n",
       "1442     C536543     22355        -2 2010-12-01 14:30:00       0.85   \n",
       "1973     C536548     22244        -4 2010-12-01 14:33:00       1.95   \n",
       "1974     C536548     22242        -5 2010-12-01 14:33:00       1.65   \n",
       "1975     C536548     20914        -1 2010-12-01 14:33:00       2.95   \n",
       "1976     C536548     22892        -7 2010-12-01 14:33:00       1.25   \n",
       "1977     C536548     22654        -1 2010-12-01 14:33:00       5.95   \n",
       "1978     C536548     22767        -2 2010-12-01 14:33:00       9.95   \n",
       "1979     C536548     22333        -1 2010-12-01 14:33:00       1.65   \n",
       "1980     C536548     22245        -2 2010-12-01 14:33:00       0.85   \n",
       "1981     C536548     22077        -6 2010-12-01 14:33:00       1.65   \n",
       "1982     C536548     22631        -1 2010-12-01 14:33:00       1.95   \n",
       "1983     C536548     22168        -2 2010-12-01 14:33:00       8.50   \n",
       "1984     C536548     21218        -3 2010-12-01 14:33:00       3.75   \n",
       "1985     C536548     20957        -1 2010-12-01 14:33:00       1.45   \n",
       "1986     C536548     22580        -4 2010-12-01 14:33:00       5.95   \n",
       "2406      536589     21777       -10 2010-12-01 16:50:00       0.00   \n",
       "3170     C536606     20914        -2 2010-12-02 09:10:00       2.95   \n",
       "3338     C536622     22752        -2 2010-12-02 10:37:00       8.50   \n",
       "3410     C536625     22839        -2 2010-12-02 10:46:00      14.95   \n",
       "...          ...       ...       ...                 ...        ...   \n",
       "538565   C581409     22173        -2 2011-12-08 14:08:00       3.29   \n",
       "538566   C581409    85199L        -1 2011-12-08 14:08:00       0.65   \n",
       "538567   C581409     85127        -5 2011-12-08 14:08:00       4.95   \n",
       "538919    581422     23169      -235 2011-12-08 15:24:00       0.00   \n",
       "540072   C581460     22197        -5 2011-12-08 18:48:00       0.72   \n",
       "540073   C581460     22107        -1 2011-12-08 18:48:00       1.25   \n",
       "540078   C581462     16219       -48 2011-12-08 18:51:00       0.06   \n",
       "540079   C581462     21642       -72 2011-12-08 18:51:00       0.29   \n",
       "540080   C581463     85048        -2 2011-12-08 18:56:00       7.95   \n",
       "540081   C581464     23458        -1 2011-12-08 18:57:00      14.95   \n",
       "540082   C581464     71477        -6 2011-12-08 18:57:00       3.95   \n",
       "540083   C581465     23660        -2 2011-12-08 18:59:00       1.65   \n",
       "540084   C581465     22171        -1 2011-12-08 18:59:00       8.50   \n",
       "540085   C581465     21876        -4 2011-12-08 18:59:00       1.65   \n",
       "540086   C581465     20914        -3 2011-12-08 18:59:00       2.95   \n",
       "540087   C581466     22838        -1 2011-12-08 19:20:00      14.95   \n",
       "540088   C581466     22720        -2 2011-12-08 19:20:00       4.95   \n",
       "540089   C581466     21216        -1 2011-12-08 19:20:00       4.95   \n",
       "540090   C581466     21535        -2 2011-12-08 19:20:00       2.55   \n",
       "540091   C581466     21232        -1 2011-12-08 19:20:00       1.25   \n",
       "540141   C581468     21314       -10 2011-12-08 19:26:00       2.10   \n",
       "540142   C581468     22098       -12 2011-12-08 19:26:00       0.39   \n",
       "540176   C581470     23084        -4 2011-12-08 19:28:00       2.08   \n",
       "540422   C581484     23843    -80995 2011-12-09 09:27:00       2.08   \n",
       "540448   C581490     22178       -12 2011-12-09 09:57:00       1.95   \n",
       "540449   C581490     23144       -11 2011-12-09 09:57:00       0.83   \n",
       "541541   C581499         M        -1 2011-12-09 10:28:00     224.69   \n",
       "541715   C581568     21258        -5 2011-12-09 11:57:00      10.95   \n",
       "541716   C581569     84978        -1 2011-12-09 11:58:00       1.25   \n",
       "541717   C581569     20979        -5 2011-12-09 11:58:00       1.25   \n",
       "\n",
       "        CustomerID         Country  \n",
       "141        14527.0  United Kingdom  \n",
       "154        15311.0  United Kingdom  \n",
       "235        17548.0  United Kingdom  \n",
       "236        17548.0  United Kingdom  \n",
       "237        17548.0  United Kingdom  \n",
       "238        17548.0  United Kingdom  \n",
       "239        17548.0  United Kingdom  \n",
       "240        17548.0  United Kingdom  \n",
       "241        17548.0  United Kingdom  \n",
       "939        17897.0  United Kingdom  \n",
       "1441       17841.0  United Kingdom  \n",
       "1442       17841.0  United Kingdom  \n",
       "1973       12472.0         Germany  \n",
       "1974       12472.0         Germany  \n",
       "1975       12472.0         Germany  \n",
       "1976       12472.0         Germany  \n",
       "1977       12472.0         Germany  \n",
       "1978       12472.0         Germany  \n",
       "1979       12472.0         Germany  \n",
       "1980       12472.0         Germany  \n",
       "1981       12472.0         Germany  \n",
       "1982       12472.0         Germany  \n",
       "1983       12472.0         Germany  \n",
       "1984       12472.0         Germany  \n",
       "1985       12472.0         Germany  \n",
       "1986       12472.0         Germany  \n",
       "2406       18301.0  United Kingdom  \n",
       "3170       14092.0  United Kingdom  \n",
       "3338       12471.0         Germany  \n",
       "3410       14766.0  United Kingdom  \n",
       "...            ...             ...  \n",
       "538565     12476.0         Germany  \n",
       "538566     12476.0         Germany  \n",
       "538567     12476.0         Germany  \n",
       "538919     21991.0  United Kingdom  \n",
       "540072     13078.0  United Kingdom  \n",
       "540073     13078.0  United Kingdom  \n",
       "540078     12985.0  United Kingdom  \n",
       "540079     12985.0  United Kingdom  \n",
       "540080     17526.0  United Kingdom  \n",
       "540081     15951.0  United Kingdom  \n",
       "540082     15951.0  United Kingdom  \n",
       "540083     15755.0  United Kingdom  \n",
       "540084     15755.0  United Kingdom  \n",
       "540085     15755.0  United Kingdom  \n",
       "540086     15755.0  United Kingdom  \n",
       "540087     13883.0  United Kingdom  \n",
       "540088     13883.0  United Kingdom  \n",
       "540089     13883.0  United Kingdom  \n",
       "540090     13883.0  United Kingdom  \n",
       "540091     13883.0  United Kingdom  \n",
       "540141     13599.0  United Kingdom  \n",
       "540142     13599.0  United Kingdom  \n",
       "540176     17924.0  United Kingdom  \n",
       "540422     16446.0  United Kingdom  \n",
       "540448     14397.0  United Kingdom  \n",
       "540449     14397.0  United Kingdom  \n",
       "541541     15498.0  United Kingdom  \n",
       "541715     15311.0  United Kingdom  \n",
       "541716     17315.0  United Kingdom  \n",
       "541717     17315.0  United Kingdom  \n",
       "\n",
       "[10624 rows x 7 columns]"
      ]
     },
     "execution_count": 17,
     "metadata": {},
     "output_type": "execute_result"
    }
   ],
   "source": [
    "data[data['Quantity']<0]"
   ]
  },
  {
   "cell_type": "markdown",
   "metadata": {},
   "source": [
    "**We find that theses negatives values correspond to cancellation operations,but in somes cases correspond to discounts operations.So we will delete all rows correspond to discounts operation and we save others operation which give us informations about customers who make cancellations.**"
   ]
  },
  {
   "cell_type": "code",
   "execution_count": 18,
   "metadata": {},
   "outputs": [],
   "source": [
    "data=data.drop((data[(data['Quantity']<0) & (data['StockCode']=='D')]).index)"
   ]
  },
  {
   "cell_type": "markdown",
   "metadata": {},
   "source": [
    "# Features engineering"
   ]
  },
  {
   "cell_type": "markdown",
   "metadata": {},
   "source": [
    "<font color='Citron'>**We will define hereunder new features wich allow us to determinate for each customer the periodicity of purchasing,the total amount of his purchasing per year , the recency of his purchasing.We will create variable which allow to indicate if the the customer will make purchasing or not.**</font>"
   ]
  },
  {
   "cell_type": "code",
   "execution_count": 19,
   "metadata": {},
   "outputs": [],
   "source": [
    "# We will create new variable namely periodicity , which allow to give the periodicity of purchasing of each \n",
    "# customer.\n",
    "data['Periodicity']=[ceil(365/len(data[data['CustomerID']==c])) for c in data['CustomerID']]\n",
    "\n"
   ]
  },
  {
   "cell_type": "code",
   "execution_count": 20,
   "metadata": {},
   "outputs": [],
   "source": [
    "#Create a new feature correspond to the total amount purchasing of each customer per year. \n",
    "\n",
    "def customer_tot_amount(df):\n",
    "    \"\"\"This function allow to compute the total amount of purchasing for each customer.\n",
    "       \n",
    "       Args:\n",
    "       \n",
    "       df(DataFrame): a data frame that the function will use to compute the amount of each purchasing.\n",
    "       \n",
    "       Return:\n",
    "       df(DataFrame): a data frame with new variable, gives the amount of each purchasing.\n",
    "    \"\"\"\n",
    "    df['prix_total']=df['Quantity'] * df['UnitPrice']\n",
    "    dff=df.groupby('CustomerID')['prix_total'].sum()\n",
    "    dff=pd.DataFrame(dff)\n",
    "    df['total_amount']=[dff.loc[c]['prix_total'] for c in df['CustomerID']]\n",
    "    del(df['prix_total'])\n",
    "    return df"
   ]
  },
  {
   "cell_type": "code",
   "execution_count": 21,
   "metadata": {},
   "outputs": [],
   "source": [
    "#define the feature of total_amount.\n",
    "data=customer_tot_amount(data)"
   ]
  },
  {
   "cell_type": "code",
   "execution_count": 22,
   "metadata": {},
   "outputs": [],
   "source": [
    "#We will create a new variable which allow to give the time in day from the last purchasing of each customer.\n",
    "month={'01':0,'02':31,'03':59,'04':80,'05':120,'06':151,'07':181,'08':212,'09':243,'10':273,'11':304,'12':334}\n",
    "data['n_jour']=[month[str(c)[5:7]] + int(str(c)[8:10]) for c in data['InvoiceDate']]\n",
    "data['Recency']=[365-max(data[data['CustomerID']==c]['n_jour']) for c in data['CustomerID']]\n",
    "del(data['n_jour'])"
   ]
  },
  {
   "cell_type": "code",
   "execution_count": 23,
   "metadata": {},
   "outputs": [],
   "source": [
    "#We will create purchasing which allow t to determinate if the customer will make purchasing or note.\n",
    "data['purchasing']=[1 if c>0 else 0 for c in data['total_amount']]"
   ]
  },
  {
   "cell_type": "markdown",
   "metadata": {},
   "source": [
    "# Useless Columns"
   ]
  },
  {
   "cell_type": "markdown",
   "metadata": {},
   "source": [
    "**We find that the columns Quantity,InvoiceDate,UnitPrice,StockCode,InvoiceNo are useless for our work.So will drop theses columns.**"
   ]
  },
  {
   "cell_type": "code",
   "execution_count": 24,
   "metadata": {},
   "outputs": [],
   "source": [
    "del(data['InvoiceNo'])\n",
    "del(data['StockCode'])\n",
    "del(data['Quantity'])\n",
    "del(data['InvoiceDate'])\n",
    "del(data['UnitPrice'])\n",
    "del(data['Country'])"
   ]
  },
  {
   "cell_type": "markdown",
   "metadata": {},
   "source": [
    "# Rows duplicated"
   ]
  },
  {
   "cell_type": "code",
   "execution_count": 25,
   "metadata": {},
   "outputs": [
    {
     "data": {
      "text/plain": [
       "541832"
      ]
     },
     "execution_count": 25,
     "metadata": {},
     "output_type": "execute_result"
    }
   ],
   "source": [
    "len(data) # length of data before delete the duplicated rows."
   ]
  },
  {
   "cell_type": "code",
   "execution_count": 26,
   "metadata": {},
   "outputs": [],
   "source": [
    "data=data.drop_duplicates()"
   ]
  },
  {
   "cell_type": "code",
   "execution_count": 27,
   "metadata": {},
   "outputs": [
    {
     "data": {
      "text/plain": [
       "8082"
      ]
     },
     "execution_count": 27,
     "metadata": {},
     "output_type": "execute_result"
    }
   ],
   "source": [
    "len(data) # length of data after delete the duplicated rows."
   ]
  },
  {
   "cell_type": "code",
   "execution_count": 28,
   "metadata": {},
   "outputs": [
    {
     "data": {
      "text/html": [
       "<div>\n",
       "<style scoped>\n",
       "    .dataframe tbody tr th:only-of-type {\n",
       "        vertical-align: middle;\n",
       "    }\n",
       "\n",
       "    .dataframe tbody tr th {\n",
       "        vertical-align: top;\n",
       "    }\n",
       "\n",
       "    .dataframe thead th {\n",
       "        text-align: right;\n",
       "    }\n",
       "</style>\n",
       "<table border=\"1\" class=\"dataframe\">\n",
       "  <thead>\n",
       "    <tr style=\"text-align: right;\">\n",
       "      <th></th>\n",
       "      <th>CustomerID</th>\n",
       "      <th>Periodicity</th>\n",
       "      <th>total_amount</th>\n",
       "      <th>Recency</th>\n",
       "      <th>purchasing</th>\n",
       "    </tr>\n",
       "  </thead>\n",
       "  <tbody>\n",
       "    <tr>\n",
       "      <th>0</th>\n",
       "      <td>17850.0</td>\n",
       "      <td>2</td>\n",
       "      <td>5288.63</td>\n",
       "      <td>29</td>\n",
       "      <td>1</td>\n",
       "    </tr>\n",
       "    <tr>\n",
       "      <th>9</th>\n",
       "      <td>13047.0</td>\n",
       "      <td>2</td>\n",
       "      <td>3079.10</td>\n",
       "      <td>30</td>\n",
       "      <td>1</td>\n",
       "    </tr>\n",
       "    <tr>\n",
       "      <th>26</th>\n",
       "      <td>12583.0</td>\n",
       "      <td>2</td>\n",
       "      <td>7187.34</td>\n",
       "      <td>24</td>\n",
       "      <td>1</td>\n",
       "    </tr>\n",
       "    <tr>\n",
       "      <th>46</th>\n",
       "      <td>13748.0</td>\n",
       "      <td>14</td>\n",
       "      <td>948.25</td>\n",
       "      <td>30</td>\n",
       "      <td>1</td>\n",
       "    </tr>\n",
       "    <tr>\n",
       "      <th>65</th>\n",
       "      <td>15100.0</td>\n",
       "      <td>61</td>\n",
       "      <td>635.10</td>\n",
       "      <td>15</td>\n",
       "      <td>1</td>\n",
       "    </tr>\n",
       "  </tbody>\n",
       "</table>\n",
       "</div>"
      ],
      "text/plain": [
       "    CustomerID  Periodicity  total_amount  Recency  purchasing\n",
       "0      17850.0            2       5288.63       29           1\n",
       "9      13047.0            2       3079.10       30           1\n",
       "26     12583.0            2       7187.34       24           1\n",
       "46     13748.0           14        948.25       30           1\n",
       "65     15100.0           61        635.10       15           1"
      ]
     },
     "execution_count": 28,
     "metadata": {},
     "output_type": "execute_result"
    }
   ],
   "source": [
    "data.head() # Preview in data "
   ]
  },
  {
   "cell_type": "markdown",
   "metadata": {},
   "source": [
    "# Data Exploration"
   ]
  },
  {
   "cell_type": "markdown",
   "metadata": {},
   "source": [
    "<font color=blue><font size=3>**Univariate Analyse**</font>"
   ]
  },
  {
   "cell_type": "markdown",
   "metadata": {},
   "source": [
    "**We will create a histogram for each variable.In the same graph, we give the mean of each variable.**"
   ]
  },
  {
   "cell_type": "code",
   "execution_count": 29,
   "metadata": {},
   "outputs": [
    {
     "data": {
      "image/png": "[encoded data removed]",
      "text/plain": [
       "<Figure size 1440x1440 with 3 Axes>"
      ]
     },
     "metadata": {},
     "output_type": "display_data"
    }
   ],
   "source": [
    "import seaborn as sns \n",
    "fig=plt.figure(figsize=(20,20))\n",
    "for i in range(1,4):\n",
    "    ax=fig.add_subplot(3,1,i)\n",
    "    sns.distplot(data[data.columns[i]])\n",
    "    ax.axvline(data[data.columns[i]].mean(),color='red',linewidth=3,label='mean')\n",
    "    plt.title(\"Histogramme de {}\".format(data.columns[i]))\n",
    "    plt.legend()"
   ]
  },
  {
   "cell_type": "code",
   "execution_count": 30,
   "metadata": {},
   "outputs": [
    {
     "data": {
      "text/html": [
       "<div>\n",
       "<style scoped>\n",
       "    .dataframe tbody tr th:only-of-type {\n",
       "        vertical-align: middle;\n",
       "    }\n",
       "\n",
       "    .dataframe tbody tr th {\n",
       "        vertical-align: top;\n",
       "    }\n",
       "\n",
       "    .dataframe thead th {\n",
       "        text-align: right;\n",
       "    }\n",
       "</style>\n",
       "<table border=\"1\" class=\"dataframe\">\n",
       "  <thead>\n",
       "    <tr style=\"text-align: right;\">\n",
       "      <th></th>\n",
       "      <th>Periodicity</th>\n",
       "      <th>total_amount</th>\n",
       "      <th>Recency</th>\n",
       "      <th>purchasing</th>\n",
       "    </tr>\n",
       "  </thead>\n",
       "  <tbody>\n",
       "    <tr>\n",
       "      <th>mean</th>\n",
       "      <td>130.291</td>\n",
       "      <td>1206.81</td>\n",
       "      <td>129.092</td>\n",
       "      <td>0.711458</td>\n",
       "    </tr>\n",
       "    <tr>\n",
       "      <th>mode</th>\n",
       "      <td>0    365\n",
       "dtype: int64</td>\n",
       "      <td>0    0.0\n",
       "dtype: float64</td>\n",
       "      <td>0    23\n",
       "dtype: int64</td>\n",
       "      <td>0    1\n",
       "dtype: int64</td>\n",
       "    </tr>\n",
       "    <tr>\n",
       "      <th>Q1</th>\n",
       "      <td>6</td>\n",
       "      <td>0</td>\n",
       "      <td>36</td>\n",
       "      <td>0</td>\n",
       "    </tr>\n",
       "    <tr>\n",
       "      <th>Q3</th>\n",
       "      <td>365</td>\n",
       "      <td>1089.08</td>\n",
       "      <td>218.75</td>\n",
       "      <td>1</td>\n",
       "    </tr>\n",
       "    <tr>\n",
       "      <th>median</th>\n",
       "      <td>20</td>\n",
       "      <td>298.405</td>\n",
       "      <td>88</td>\n",
       "      <td>1</td>\n",
       "    </tr>\n",
       "  </tbody>\n",
       "</table>\n",
       "</div>"
      ],
      "text/plain": [
       "                  Periodicity             total_amount               Recency  \\\n",
       "mean                  130.291                  1206.81               129.092   \n",
       "mode    0    365\n",
       "dtype: int64  0    0.0\n",
       "dtype: float64  0    23\n",
       "dtype: int64   \n",
       "Q1                          6                        0                    36   \n",
       "Q3                        365                  1089.08                218.75   \n",
       "median                     20                  298.405                    88   \n",
       "\n",
       "                 purchasing  \n",
       "mean               0.711458  \n",
       "mode    0    1\n",
       "dtype: int64  \n",
       "Q1                        0  \n",
       "Q3                        1  \n",
       "median                    1  "
      ]
     },
     "execution_count": 30,
     "metadata": {},
     "output_type": "execute_result"
    }
   ],
   "source": [
    "tab_stats=pd.DataFrame({c:[data[c].mean(),data[c].mode(),data[c].quantile(0.25),data[c].quantile(0.75),\\\n",
    "                           data[c].quantile(0.5)] for c in data.columns[1:]},index=['mean','mode','Q1','Q3','median'])\n",
    "tab_stats"
   ]
  },
  {
   "cell_type": "markdown",
   "metadata": {},
   "source": [
    "<font color=citron>**We can conclude that:  \n",
    "    -The mean periodicity of customer purchasing  is barely 130 days.  \n",
    "    -50% of customer has a periodicity purchasing less than 20 days.  \n",
    "    -About 29% of customer don't carry on their purchasing.  \n",
    "    -the mean yearly purchasing  amount of customers is about 1206.**</font>"
   ]
  },
  {
   "cell_type": "markdown",
   "metadata": {},
   "source": [
    "<font color=blue>**multivariate Analyse **</font>"
   ]
  },
  {
   "cell_type": "code",
   "execution_count": 31,
   "metadata": {},
   "outputs": [
    {
     "data": {
      "text/plain": [
       "Text(0.5,1,'Mean amount of one purchasing transaction in function of purchasing periodicity')"
      ]
     },
     "execution_count": 31,
     "metadata": {},
     "output_type": "execute_result"
    },
    {
     "data": {
      "image/png": "[encoded data removed]",
      "text/plain": [
       "<Figure size 2160x720 with 1 Axes>"
      ]
     },
     "metadata": {},
     "output_type": "display_data"
    }
   ],
   "source": [
    "fig=plt.figure(figsize=(30,10))\n",
    "plt.bar(data['Periodicity'],data['total_amount']*data['Periodicity']/365,width=2,color='red')\n",
    "plt.xlim([0,366])\n",
    "plt.ylim([0,2000])\n",
    "plt.xlabel('Periodicity of purchasing',fontsize=14)\n",
    "plt.ylabel('mean amount of one purchasing transaction',fontsize=14)\n",
    "plt.title('Mean amount of one purchasing transaction in function of purchasing periodicity',fontsize=18,color='red')"
   ]
  },
  {
   "cell_type": "markdown",
   "metadata": {},
   "source": [
    "<font color=citron>**We can conclude from the graph above, that in general the customer who have low frequency of purchasing , they have the highest basket.**</font>"
   ]
  },
  {
   "cell_type": "markdown",
   "metadata": {},
   "source": [
    "**We will now try to answers the following questions:  \n",
    "    -If there is correlation between periodicity of customer and achievement of transaction purchasing ?  \n",
    "    -If there is correlation between the total amount of purchasing and achievement of transaction purchasing ?\n",
    "    -If there is correlation between the time from the last purchasing and the achievement of transaction purchasing ?**"
   ]
  },
  {
   "cell_type": "markdown",
   "metadata": {},
   "source": [
    "To answer theses questions, we need to compute the correlation between the variables Periodicity, total_amount and Recency with the variable purchasing.We note that the variable purchasing is a qualitative variable, also for Periodicity and Recency.So we need to create the contingency table of theses variables.We have the variables Recency and peridicity have a lot of possibils values. For this reason, we will create the contingency table of the variable purchasing with  theses variables on base the values of purchasing with values of other variables by range. "
   ]
  },
  {
   "cell_type": "code",
   "execution_count": 40,
   "metadata": {},
   "outputs": [],
   "source": [
    "def quartile_range(vl,q1,q2,q3):\n",
    "    \"\"\"This function allow to return 4 possibles by comparing the first introduced argument with the rest\n",
    "       of arguments.\n",
    "    \"\"\"\n",
    "    if vl <= q1:\n",
    "        return 'Q1'\n",
    "    elif vl <= q2 :\n",
    "        return 'Q2'\n",
    "    elif vl <= q3 :\n",
    "        return 'Q3'\n",
    "    else:\n",
    "        \n",
    "        return 'Q4'\n",
    "def cont_table(var1,var2):\n",
    "    \"\"\"This function, consist to mesure the correlation between the introduced variables and to give the contingency\n",
    "       table between them.\n",
    "       \n",
    "       Args:\n",
    "       \n",
    "       var1(Str): the name of the first variable\n",
    "       var2(str): the name of the second variable\n",
    "    \"\"\"\n",
    "    Y=var2\n",
    "    X='{}_range'.format(var1)\n",
    "    q1=data[var1].quantile(0.25)\n",
    "    q2=data[var1].quantile(0.5)\n",
    "    q3=data[var1].quantile(0.75)\n",
    "    data[X]=[quartile_range(c,q1,q2,q3) for c in data[var1]]\n",
    "    cnt=data[[X,Y]].pivot_table(index=X,columns=Y,aggfunc=len)\n",
    "    tx=data[X].value_counts()\n",
    "    ty=data[Y].value_counts()\n",
    "    tx=pd.DataFrame(tx)\n",
    "    ty=pd.DataFrame(ty)\n",
    "    tx.columns=['values']\n",
    "    ty.columns=['values']\n",
    "    n=len(data)\n",
    "    ind=tx.dot(ty.T)/n\n",
    "    mesure=(cnt-ind)**2/ind\n",
    "    xin=mesure.sum().sum()\n",
    "    del(data[X])\n",
    "    print(\" Mesure of correlation between the variable {} and the variable {} equal to :{}\".format(var1,var2,xin))\n",
    "    sns.heatmap(mesure,annot=True)\n",
    "    plt.title('Tableau de contingence entre la variable {} et la variable {}'.format(var1,var2),color='b')\n",
    "    plt.show()"
   ]
  },
  {
   "cell_type": "code",
   "execution_count": 41,
   "metadata": {},
   "outputs": [
    {
     "name": "stdout",
     "output_type": "stream",
     "text": [
      " Mesure of correlation between the variable Periodicity and the variable purchasing equal to :2583.346283012399\n"
     ]
    },
    {
     "data": {
      "image/png": "[encoded data removed]",
      "text/plain": [
       "<Figure size 432x288 with 2 Axes>"
      ]
     },
     "metadata": {},
     "output_type": "display_data"
    }
   ],
   "source": [
    "#The contingency table and computing correlation between the variable periodicity and the variable purchasing.\n",
    "cont_table('Periodicity','purchasing')"
   ]
  },
  {
   "cell_type": "code",
   "execution_count": 42,
   "metadata": {},
   "outputs": [
    {
     "name": "stdout",
     "output_type": "stream",
     "text": [
      " Mesure of correlation between the variable Recency and the variable purchasing equal to :551.908437928743\n"
     ]
    },
    {
     "data": {
      "image/png": "[encoded data removed]",
      "text/plain": [
       "<Figure size 432x288 with 2 Axes>"
      ]
     },
     "metadata": {},
     "output_type": "display_data"
    }
   ],
   "source": [
    "#The contingency table between and computing correlation between the variable Recency and the variable purchasing.\n",
    "cont_table('Recency','purchasing')"
   ]
  },
  {
   "cell_type": "code",
   "execution_count": null,
   "metadata": {},
   "outputs": [],
   "source": []
  }
 ],
 "metadata": {
  "kernelspec": {
   "display_name": "Python 3",
   "language": "python",
   "name": "python3"
  },
  "language_info": {
   "codemirror_mode": {
    "name": "ipython",
    "version": 3
   },
   "file_extension": ".py",
   "mimetype": "text/x-python",
   "name": "python",
   "nbconvert_exporter": "python",
   "pygments_lexer": "ipython3",
   "version": "3.6.5"
  }
 },
 "nbformat": 4,
 "nbformat_minor": 2
}
